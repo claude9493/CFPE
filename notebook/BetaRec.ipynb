{
  "nbformat": 4,
  "nbformat_minor": 0,
  "metadata": {
    "colab": {
      "name": "BetaRec.ipynb",
      "provenance": [],
      "authorship_tag": "ABX9TyOCCJwTSQxBcTvnu0cmyvur",
      "include_colab_link": true
    },
    "kernelspec": {
      "name": "python3",
      "display_name": "Python 3"
    },
    "language_info": {
      "name": "python"
    },
    "accelerator": "GPU"
  },
  "cells": [
    {
      "cell_type": "markdown",
      "metadata": {
        "id": "view-in-github",
        "colab_type": "text"
      },
      "source": [
        "<a href=\"https://colab.research.google.com/github/claude9493/DSAA5002/blob/main/notebook/BetaRec.ipynb\" target=\"_parent\"><img src=\"https://colab.research.google.com/assets/colab-badge.svg\" alt=\"Open In Colab\"/></a>"
      ]
    },
    {
      "cell_type": "code",
      "metadata": {
        "id": "zoMa4IzK6Qrn",
        "colab": {
          "base_uri": "https://localhost:8080/"
        },
        "outputId": "178aeae5-05c9-4b6a-9b4b-7870a713553c"
      },
      "source": [
        "!git clone https://github.com/claude9493/dsaa5002.git\n",
        "!mv ./dsaa5002/dataset/ ./\n",
        "!mv ./dsaa5002/utils/ ./"
      ],
      "execution_count": 1,
      "outputs": [
        {
          "output_type": "stream",
          "name": "stdout",
          "text": [
            "fatal: destination path 'dsaa5002' already exists and is not an empty directory.\n",
            "mv: cannot stat './dsaa5002/dataset/': No such file or directory\n",
            "mv: cannot stat './dsaa5002/utils/': No such file or directory\n"
          ]
        }
      ]
    },
    {
      "cell_type": "code",
      "metadata": {
        "id": "W_z1xJHo6WLt",
        "colab": {
          "base_uri": "https://localhost:8080/"
        },
        "outputId": "625b4a05-37cb-448f-b095-34fad735e0cf"
      },
      "source": [
        "%%time\n",
        "\n",
        "from utils.utils import create_dataset, Trainer\n",
        "# from layer.layer import Embedding, FeaturesEmbedding, EmbeddingsInteraction, MultiLayerPerceptron\n",
        "\n",
        "import math\n",
        "import torch\n",
        "import torch.nn as nn\n",
        "import torch.optim as optim\n",
        "\n",
        "from torch.utils.data import TensorDataset, DataLoader\n",
        "\n",
        "device = torch.device('cuda:0' if torch.cuda.is_available() else 'cpu')\n",
        "print('Training on [{}].'.format(device))"
      ],
      "execution_count": 2,
      "outputs": [
        {
          "output_type": "stream",
          "name": "stdout",
          "text": [
            "Training on [cuda:0].\n",
            "CPU times: user 907 ms, sys: 377 ms, total: 1.28 s\n",
            "Wall time: 1.17 s\n"
          ]
        }
      ]
    },
    {
      "cell_type": "code",
      "metadata": {
        "id": "C5mq1ihz6XqM",
        "colab": {
          "base_uri": "https://localhost:8080/"
        },
        "outputId": "20a07205-e533-4eb0-de5c-ff29d2fbd967"
      },
      "source": [
        "%%time\n",
        "SAMPLE_NUM = 10000\n",
        "task = 'regression'  # 'classification'\n",
        "dataset = create_dataset('movielens', sample_num=SAMPLE_NUM, task=task, device=device)\n",
        "field_dims, (train_X, train_y), (valid_X, valid_y), (test_X, test_y) = dataset.train_valid_test_split()"
      ],
      "execution_count": 3,
      "outputs": [
        {
          "output_type": "stream",
          "name": "stdout",
          "text": [
            "CPU times: user 1.69 s, sys: 817 ms, total: 2.5 s\n",
            "Wall time: 2.49 s\n"
          ]
        }
      ]
    },
    {
      "cell_type": "code",
      "metadata": {
        "id": "bnCcw77aRwEX"
      },
      "source": [
        "# train_iterator = SingledirectionalOneShotIterator(DataLoader(\n",
        "#     TensorDataset(train_X, train_y),\n",
        "#     # TrainDataset(train_path_queries, nentity, nrelation, args.negative_sample_size, train_answers),\n",
        "#     batch_size=BATCH_SIZE,\n",
        "#     shuffle=True\n",
        "#     # num_workers=args.cpu_num\n",
        "#     # collate_fn=TrainDataset.collate_fn\n",
        "# ))"
      ],
      "execution_count": 4,
      "outputs": []
    },
    {
      "cell_type": "code",
      "metadata": {
        "id": "bTsF5YWK6ZjW"
      },
      "source": [
        "class SingledirectionalOneShotIterator(object):\n",
        "    def __init__(self, dataloader):\n",
        "        self.iterator = self.one_shot_iterator(dataloader)\n",
        "        self.step = 0\n",
        "        \n",
        "    def __next__(self):\n",
        "        self.step += 1\n",
        "        data = next(self.iterator)\n",
        "        return data\n",
        "    \n",
        "    @staticmethod\n",
        "    def one_shot_iterator(dataloader):\n",
        "        while True:\n",
        "            for data in dataloader:\n",
        "                yield data\n",
        "\n",
        "class Beta_Loss:\n",
        "    def __init__(self, model, reg_biase=0.005, reg_lambda=0.005):\n",
        "        self.reg_biase = reg_biase\n",
        "        self.reg_lambda = reg_lambda\n",
        "        self.model = model\n",
        "\n",
        "    def __call__(self, pred, target):\n",
        "        loss = (1-self.reg_biase) * nn.MSELoss()(pred, torch.squeeze(target))\n",
        "        loss += self.reg_biase * self.model.loss[0]\n",
        "        # loss += self.reg_lambda * self.model.loss[1]\n",
        "        loss = nn.MSELoss(reduction='sum')(pred.view(-1,1), target)\n",
        "        loss = torch.nan_to_num(loss)\n",
        "        # print(pred.view(-1,1), target)\n",
        "        return loss\n",
        "\n",
        "class Regularizer():\n",
        "    def __init__(self, base_add, min_val, max_val):\n",
        "        self.base_add = base_add\n",
        "        self.min_val = min_val\n",
        "        self.max_val = max_val\n",
        "\n",
        "    def __call__(self, entity_embedding):\n",
        "        return torch.clamp(entity_embedding + self.base_add, self.min_val, self.max_val)\n",
        "\n",
        "\n",
        "class BetaRecommendation(nn.Module):\n",
        "\n",
        "    def __init__(self, field_dims, embed_dim=4, **kwargs):\n",
        "        super(BetaRecommendation, self).__init__()\n",
        "        n_users, n_movies = field_dims[0], field_dims[1]\n",
        "\n",
        "        self.gamma = nn.Parameter(\n",
        "            torch.Tensor([kwargs.get('gamma', 12)]), \n",
        "            requires_grad=False\n",
        "        )\n",
        "\n",
        "        self.Bu = nn.Parameter(torch.randn(n_users), requires_grad=True)\n",
        "        self.Bm = nn.Parameter(torch.randn(n_movies), requires_grad=True)\n",
        "\n",
        "        self.u = nn.Embedding(n_users, embed_dim * 2)\n",
        "        # self.u = nn.Parameter(torch.zeros(n_users, embed_dim * 2))\n",
        "        self.m = nn.Embedding(n_movies, embed_dim * 2)\n",
        "        # self.m = nn.Parameter(torch.zeros(n_movies, embed_dim * 2))\n",
        "        \n",
        "        self.u.weight.data.uniform_(0.05, 1e9)\n",
        "        self.m.weight.data.uniform_(0.05, 1e9)\n",
        "        \n",
        "        self.regularizer = Regularizer(1, 0.05, 1e9)\n",
        "        self.loss = [0,0]\n",
        "\n",
        "        \n",
        "    def forward(self, x, global_mean=0):\n",
        "        users, movies = x[:,0], x[:,1]\n",
        "        u, m = self.u(users), self.m(movies)\n",
        "        Bu, Bm = self.Bu[users], self.Bm[movies]\n",
        "        u[torch.isnan(u)] = 0.05\n",
        "        m[torch.isnan(m)] = 0.05\n",
        "\n",
        "        alpha_u, beta_u = torch.chunk(self.regularizer(u), 2, dim=-1)\n",
        "        alpha_m, beta_m = torch.chunk(self.regularizer(m), 2, dim=-1)\n",
        "\n",
        "        u_dist = torch.distributions.beta.Beta(alpha_u, beta_u)\n",
        "        m_dist = torch.distributions.beta.Beta(alpha_m, beta_m)\n",
        "\n",
        "        distance = self.distance(u_dist, m_dist)\n",
        "    \n",
        "        output = Bu + Bm - distance\n",
        "        \n",
        "        self.loss[0] = torch.norm(Bu) + torch.norm(Bm)\n",
        "        # self.loss[1] = torch.norm(u) + torch.norm(m)\n",
        "        return output\n",
        "      \n",
        "    def distance(self, u_dist, m_dist):\n",
        "      # return torch.norm(torch.distributions.kl.kl_divergence(u_dist, m_dist), p=1, dim=-1)\n",
        "      \n",
        "      # print([u_dist, m_dist, \n",
        "            #  torch.norm(torch.nan_to_num(torch.log(torch.distributions.kl.kl_divergence(u_dist, m_dist)), \n",
        "                                        #  nan=1.0, posinf=1.0), p=1, dim=-1)])\n",
        "\n",
        "      return torch.nan_to_num(self.gamma - torch.norm(torch.nan_to_num(torch.log(torch.distributions.kl.kl_divergence(u_dist, m_dist)), \n",
        "                                                                       nan=1, posinf=1), \n",
        "                                                      p=1, dim=-1))\n",
        "      # return torch.norm(torch.pi/2.0 * torch.atan(torch.distributions.kl.kl_divergence(u_dist, m_dist)), p=1, dim=-1)\n",
        "\n",
        "    @staticmethod\n",
        "    def train_step(model, optimizer, train_iterator, args, step):\n",
        "      model.train()\n",
        "      optimizer.zero_grad()\n",
        "      x, y = next(train_iterator)\n",
        "      users, movies = x[:,0], x[:,1]\n",
        "\n",
        "      batch_queries_dict = collections.defaultdict(list)\n",
        "      batch_idxs_dict = collections.defaultdict(list)\n"
      ],
      "execution_count": 44,
      "outputs": []
    },
    {
      "cell_type": "code",
      "metadata": {
        "id": "zpXIAm7E6pb-",
        "colab": {
          "base_uri": "https://localhost:8080/",
          "height": 367
        },
        "outputId": "62571338-537c-47e8-b0b7-d9fd89f56224"
      },
      "source": [
        "%%time\n",
        "\n",
        "EMBEDDING_DIM = 16\n",
        "LEARNING_RATE = 1e-4\n",
        "REGULARIZATION = 1e-6\n",
        "BATCH_SIZE = 1024\n",
        "EPOCH = 500\n",
        "TRIAL = 100\n",
        "\n",
        "br = BetaRecommendation(field_dims, EMBEDDING_DIM).to(device)\n",
        "\n",
        "optimizer = optim.Adam(br.parameters(), lr=LEARNING_RATE, weight_decay=REGULARIZATION)\n",
        "# criterion = nn.BCELoss()\n",
        "# criterion = nn.CrossEntropyLoss()\n",
        "criterion = Beta_Loss(model=br)\n",
        "\n",
        "trainer = Trainer(br, optimizer, criterion, BATCH_SIZE, task=task)\n",
        "trainer.train(train_X, train_y, epoch=EPOCH, trials=TRIAL, valid_X=valid_X, valid_y=valid_y)\n",
        "test_loss, test_metric = trainer.test(test_X, test_y)\n",
        "print('test_loss:  {:.5f} | test_metric:  {:.5f}'.format(test_loss, test_metric))"
      ],
      "execution_count": 45,
      "outputs": [
        {
          "output_type": "stream",
          "name": "stderr",
          "text": [
            "Train loss: 0.0 Validation loss: 0.0:  20%|██        | 100/500 [00:09<00:38, 10.51it/s]\n"
          ]
        },
        {
          "output_type": "display_data",
          "data": {
            "image/png": "[encoded data removed]",
            "text/plain": [
              "<Figure size 432x288 with 1 Axes>"
            ]
          },
          "metadata": {
            "needs_background": "light"
          }
        },
        {
          "output_type": "stream",
          "name": "stdout",
          "text": [
            "train_loss: 0.00000 | train_metric: -0.00000\n",
            "valid_loss: 0.00000 | valid_metric: -0.00000\n",
            "test_loss:  0.00000 | test_metric:  -0.00000\n",
            "CPU times: user 9.55 s, sys: 192 ms, total: 9.74 s\n",
            "Wall time: 9.83 s\n"
          ]
        }
      ]
    },
    {
      "cell_type": "code",
      "metadata": {
        "id": "-IgdaxFOdz6v"
      },
      "source": [
        ""
      ],
      "execution_count": null,
      "outputs": []
    }
  ]
}