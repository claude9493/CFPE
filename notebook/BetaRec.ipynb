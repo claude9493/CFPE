{
  "nbformat": 4,
  "nbformat_minor": 0,
  "metadata": {
    "colab": {
      "name": "BetaRec.ipynb",
      "provenance": [],
      "authorship_tag": "ABX9TyPP6Xml7XeIyyb9mRZmRhik",
      "include_colab_link": true
    },
    "kernelspec": {
      "name": "python3",
      "display_name": "Python 3"
    },
    "language_info": {
      "name": "python"
    },
    "accelerator": "GPU"
  },
  "cells": [
    {
      "cell_type": "markdown",
      "metadata": {
        "id": "view-in-github",
        "colab_type": "text"
      },
      "source": [
        "<a href=\"https://colab.research.google.com/github/claude9493/DSAA5002/blob/main/notebook/BetaRec.ipynb\" target=\"_parent\"><img src=\"https://colab.research.google.com/assets/colab-badge.svg\" alt=\"Open In Colab\"/></a>"
      ]
    },
    {
      "cell_type": "code",
      "metadata": {
        "id": "zoMa4IzK6Qrn",
        "colab": {
          "base_uri": "https://localhost:8080/"
        },
        "outputId": "f16a8069-e283-49c1-d7af-4f15b43af07b"
      },
      "source": [
        "!git clone https://github.com/claude9493/dsaa5002.git\n",
        "!mv ./dsaa5002/dataset/ ./\n",
        "!mv ./dsaa5002/utils/ ./\n",
        "\n",
        "!pip install geomloss"
      ],
      "execution_count": 1,
      "outputs": [
        {
          "output_type": "stream",
          "name": "stdout",
          "text": [
            "Cloning into 'dsaa5002'...\n",
            "remote: Enumerating objects: 100, done.\u001b[K\n",
            "remote: Counting objects: 100% (100/100), done.\u001b[K\n",
            "remote: Compressing objects: 100% (92/92), done.\u001b[K\n",
            "remote: Total 100 (delta 29), reused 9 (delta 3), pack-reused 0\u001b[K\n",
            "Receiving objects: 100% (100/100), 9.67 MiB | 14.88 MiB/s, done.\n",
            "Resolving deltas: 100% (29/29), done.\n",
            "Collecting geomloss\n",
            "  Downloading geomloss-0.2.4-py3-none-any.whl (17 kB)\n",
            "Requirement already satisfied: numpy in /usr/local/lib/python3.7/dist-packages (from geomloss) (1.19.5)\n",
            "Installing collected packages: geomloss\n",
            "Successfully installed geomloss-0.2.4\n"
          ]
        }
      ]
    },
    {
      "cell_type": "code",
      "metadata": {
        "id": "W_z1xJHo6WLt",
        "colab": {
          "base_uri": "https://localhost:8080/"
        },
        "outputId": "88bfb9d4-2122-40c6-8ec4-5485c9608a2f"
      },
      "source": [
        "%%time\n",
        "\n",
        "from utils.utils import create_dataset, Trainer\n",
        "# from layer.layer import Embedding, FeaturesEmbedding, EmbeddingsInteraction, MultiLayerPerceptron\n",
        "\n",
        "import math\n",
        "import torch\n",
        "import torch.nn as nn\n",
        "import torch.optim as optim\n",
        "\n",
        "from torch.utils.data import TensorDataset, DataLoader\n",
        "\n",
        "from geomloss import SamplesLoss\n",
        "\n",
        "device = torch.device('cuda:0' if torch.cuda.is_available() else 'cpu')\n",
        "print('Training on [{}].'.format(device))"
      ],
      "execution_count": 2,
      "outputs": [
        {
          "output_type": "stream",
          "name": "stdout",
          "text": [
            "Training on [cuda:0].\n",
            "CPU times: user 1.18 s, sys: 784 ms, total: 1.96 s\n",
            "Wall time: 6.14 s\n"
          ]
        }
      ]
    },
    {
      "cell_type": "code",
      "metadata": {
        "id": "C5mq1ihz6XqM",
        "colab": {
          "base_uri": "https://localhost:8080/"
        },
        "outputId": "09a98b33-fabf-4ae9-92d6-edad6a220cda"
      },
      "source": [
        "%%time\n",
        "SAMPLE_NUM = 10000\n",
        "task = 'regression'  # 'classification'\n",
        "dataset = create_dataset('movielens', sample_num=SAMPLE_NUM, task=task, device=device)\n",
        "field_dims, (train_X, train_y), (valid_X, valid_y), (test_X, test_y) = dataset.train_valid_test_split()"
      ],
      "execution_count": 3,
      "outputs": [
        {
          "output_type": "stream",
          "name": "stdout",
          "text": [
            "CPU times: user 1.97 s, sys: 1.1 s, total: 3.07 s\n",
            "Wall time: 16.5 s\n"
          ]
        }
      ]
    },
    {
      "cell_type": "code",
      "metadata": {
        "id": "ZywiMRRGrEQq"
      },
      "source": [
        "class SingledirectionalOneShotIterator(object):\n",
        "    def __init__(self, dataloader):\n",
        "        self.iterator = self.one_shot_iterator(dataloader)\n",
        "        self.step = 0\n",
        "        \n",
        "    def __next__(self):\n",
        "        self.step += 1\n",
        "        data = next(self.iterator)\n",
        "        return data\n",
        "    \n",
        "    @staticmethod\n",
        "    def one_shot_iterator(dataloader):\n",
        "        while True:\n",
        "            for data in dataloader:\n",
        "                yield data\n",
        "\n",
        "class Beta_Loss:\n",
        "    def __init__(self, model, reg_biase=0.005, reg_lambda=0.005):\n",
        "        self.reg_biase = reg_biase\n",
        "        self.reg_lambda = reg_lambda\n",
        "        self.model = model\n",
        "\n",
        "    def __call__(self, pred, target):\n",
        "        loss = (1-self.reg_biase) * torch.sqrt(nn.MSELoss()(pred.view(-1,1), target))\n",
        "        loss += self.reg_biase * self.model.loss[0]\n",
        "        # loss += self.reg_lambda * self.model.loss[1]\n",
        "        # loss = nn.MSELoss(reduction='sum')(pred.view(-1,1), target)\n",
        "        loss = torch.nan_to_num(loss)\n",
        "        return torch.sqrt(loss)\n",
        "\n",
        "class Regularizer():\n",
        "    def __init__(self, base_add, min_val, max_val):\n",
        "        self.base_add = base_add\n",
        "        self.min_val = min_val\n",
        "        self.max_val = max_val\n",
        "\n",
        "    def __call__(self, entity_embedding):\n",
        "        return torch.clamp(entity_embedding + self.base_add, self.min_val, self.max_val)"
      ],
      "execution_count": 13,
      "outputs": []
    },
    {
      "cell_type": "code",
      "metadata": {
        "id": "bTsF5YWK6ZjW"
      },
      "source": [
        "class BetaRecommendation(nn.Module):\n",
        "\n",
        "    def __init__(self, field_dims, embed_dim=4, **kwargs):\n",
        "        super(BetaRecommendation, self).__init__()\n",
        "        n_users, n_movies = field_dims[0], field_dims[1]\n",
        "\n",
        "        self.gamma = nn.Parameter(\n",
        "            torch.Tensor([kwargs.get('gamma', 12)]), \n",
        "            requires_grad=False)\n",
        "        self.lb = kwargs.get('lb', 1)\n",
        "        self.ub = kwargs.get('ub', 100)\n",
        "\n",
        "        self.Bu = nn.Parameter(torch.randn(n_users), requires_grad=True)\n",
        "        self.Bm = nn.Parameter(torch.randn(n_movies), requires_grad=True)\n",
        "\n",
        "        self.u = nn.Embedding(n_users, embed_dim * 2)\n",
        "        # self.u = nn.Parameter(torch.zeros(n_users, embed_dim * 2))\n",
        "        self.m = nn.Embedding(n_movies, embed_dim * 2)\n",
        "        # self.m = nn.Parameter(torch.zeros(n_movies, embed_dim * 2))\n",
        "        \n",
        "        self.u.weight.data.uniform_(self.lb, self.ub)\n",
        "        self.m.weight.data.uniform_(self.lb, self.ub)\n",
        "        \n",
        "        self.regularizer = Regularizer(1, self.lb, self.ub)\n",
        "        self.loss = [0,0]\n",
        "\n",
        "        self.sample_loss = SamplesLoss(loss=\"sinkhorn\", scaling=1e-1000)\n",
        "\n",
        "        \n",
        "    def forward(self, x, global_mean=0):\n",
        "      # Predict rating\n",
        "        users, movies = x[:,0], x[:,1]\n",
        "        u, m = self.u(users), self.m(movies)\n",
        "        Bu, Bm = self.Bu[users], self.Bm[movies]\n",
        "        u[torch.isnan(u)] = 0.05\n",
        "        m[torch.isnan(m)] = 0.05\n",
        "\n",
        "        alpha_u, beta_u = torch.chunk(self.regularizer(u).unsqueeze(-1), 2, dim=1)\n",
        "        alpha_m, beta_m = torch.chunk(self.regularizer(m).unsqueeze(-1), 2, dim=1)\n",
        "\n",
        "        u_dist = torch.distributions.beta.Beta(alpha_u, beta_u)\n",
        "        m_dist = torch.distributions.beta.Beta(alpha_m, beta_m)\n",
        "\n",
        "        distance = self.KL_distance(u_dist, m_dist)\n",
        "        # distance = self.Wasserstein_distance(u_dist, m_dist)\n",
        "    \n",
        "        output = Bu + Bm - distance\n",
        "        \n",
        "        self.loss[0] = torch.norm(Bu) + torch.norm(Bm)\n",
        "        return output\n",
        "      \n",
        "    def KL_distance(self, u_dist, m_dist):\n",
        "      # return torch.norm(torch.distributions.kl.kl_divergence(u_dist, m_dist), p=1, dim=-1)\n",
        "      \n",
        "      # print([u_dist, m_dist, \n",
        "            #  torch.norm(torch.nan_to_num(torch.log(torch.distributions.kl.kl_divergence(u_dist, m_dist)), \n",
        "                                        #  nan=1.0, posinf=1.0), p=1, dim=-1)])\n",
        "\n",
        "      # return -torch.nan_to_num(self.gamma - torch.norm(torch.nan_to_num(torch.distributions.kl.kl_divergence(u_dist, m_dist).squeeze(), \n",
        "      #                                                                  nan=1, posinf=1), p=1, dim=-1))\n",
        "      return torch.norm(2.0/torch.pi * torch.atan(torch.distributions.kl.kl_divergence(u_dist, m_dist).squeeze()), p=1, dim=-1)\n",
        "\n",
        "    def Wasserstein_distance(self, u_dist, m_dist):\n",
        "      # Generate reference points\n",
        "      x = torch.linspace(0.001, 0.999, 16).view(1, -1)\n",
        "      u_ref = torch.exp(u_dist.log_prob(x))\n",
        "      m_ref = torch.exp(m_dist.log_prob(x))\n",
        "      return self.sample_loss.forward(u_ref, m_ref)"
      ],
      "execution_count": 14,
      "outputs": []
    },
    {
      "cell_type": "code",
      "metadata": {
        "colab": {
          "base_uri": "https://localhost:8080/"
        },
        "id": "1QkDiKbjmc42",
        "outputId": "201cf569-b994-4e19-edd4-884ba73227b0"
      },
      "source": [
        "# alpha, beta = torch.chunk(torch.tensor([1,2,3,4,5,6]).repeat(2), 2, dim=-1)\n",
        "alpha = torch.randint(low=1, high=20, size=(64, 16)).unsqueeze(-1)\n",
        "beta = torch.randint(low=1, high=20, size=(64, 16)).unsqueeze(-1)\n",
        "\n",
        "dist_1 = torch.distributions.beta.Beta(torch.randint(low=1, high=20, size=(64, 16)).unsqueeze(-1), \n",
        "                                       torch.randint(low=1, high=20, size=(64, 16)).unsqueeze(-1))\n",
        "dist_2 = torch.distributions.beta.Beta(torch.randint(low=1, high=20, size=(64, 16)).unsqueeze(-1), \n",
        "                                       torch.randint(low=1, high=20, size=(64, 16)).unsqueeze(-1))\n",
        "x = torch.linspace(0.001, 0.999, 10).view(1,-1)\n",
        "\n",
        "ref1 = torch.exp(dist_1.log_prob(x))\n",
        "ref2 = torch.exp(dist_2.log_prob(x))\n",
        "\n",
        "sample_loss = SamplesLoss(loss=\"sinkhorn\", blur=0.001)\n",
        "torch.norm(sample_loss.forward(ref1, ref2), p=1, dim=-1)\n",
        "sample_loss.forward(ref1, ref2).shape"
      ],
      "execution_count": 6,
      "outputs": [
        {
          "output_type": "execute_result",
          "data": {
            "text/plain": [
              "torch.Size([64])"
            ]
          },
          "metadata": {},
          "execution_count": 6
        }
      ]
    },
    {
      "cell_type": "code",
      "metadata": {
        "colab": {
          "base_uri": "https://localhost:8080/"
        },
        "id": "_gsq16CzFdy3",
        "outputId": "384abb3a-ac80-4330-f7be-e7dcd7fb7906"
      },
      "source": [
        "torch.norm(torch.distributions.kl.kl_divergence(dist_1, dist_2).squeeze(), p=1, dim=-1).shape"
      ],
      "execution_count": 7,
      "outputs": [
        {
          "output_type": "execute_result",
          "data": {
            "text/plain": [
              "torch.Size([64])"
            ]
          },
          "metadata": {},
          "execution_count": 7
        }
      ]
    },
    {
      "cell_type": "code",
      "metadata": {
        "id": "k3oQw1vujlAh"
      },
      "source": [
        "from torch.optim.lr_scheduler import ConstantLR"
      ],
      "execution_count": 8,
      "outputs": []
    },
    {
      "cell_type": "code",
      "metadata": {
        "id": "zpXIAm7E6pb-",
        "colab": {
          "base_uri": "https://localhost:8080/",
          "height": 369
        },
        "outputId": "22b1a2de-572c-489b-901a-4495cde0b526"
      },
      "source": [
        "%%time\n",
        "\n",
        "EMBEDDING_DIM = 50\n",
        "LEARNING_RATE = 0.25 #1e-4\n",
        "REGULARIZATION = 1e-6\n",
        "BATCH_SIZE = 1024  # 64\n",
        "EPOCH = 1200\n",
        "TRIAL = 200\n",
        "\n",
        "br = BetaRecommendation(field_dims, EMBEDDING_DIM).to(device)\n",
        "\n",
        "optimizer = optim.Adam(br.parameters(), lr=LEARNING_RATE, weight_decay=REGULARIZATION)\n",
        "scheduler = ConstantLR(optimizer, factor=0.2, total_iters=300)\n",
        "# criterion = nn.BCELoss()\n",
        "# criterion = nn.CrossEntropyLoss()\n",
        "criterion = Beta_Loss(model=br)\n",
        "\n",
        "trainer = Trainer(br, optimizer, criterion, BATCH_SIZE, scheduler=scheduler, task=task)\n",
        "trainer.train(train_X, train_y, epoch=EPOCH, trials=TRIAL, valid_X=valid_X, valid_y=valid_y)\n",
        "test_loss, test_metric = trainer.test(test_X, test_y)\n",
        "print('test_loss:  {:.5f} | test_metric:  {:.5f}'.format(test_loss, test_metric))"
      ],
      "execution_count": 15,
      "outputs": [
        {
          "output_type": "stream",
          "name": "stderr",
          "text": [
            "Train loss: 1.124 | Validation loss 1.365:  50%|████▉     | 599/1200 [01:44<01:45,  5.71it/s]\n"
          ]
        },
        {
          "output_type": "display_data",
          "data": {
            "image/png": "[encoded data removed]",
            "text/plain": [
              "<Figure size 432x288 with 1 Axes>"
            ]
          },
          "metadata": {
            "needs_background": "light"
          }
        },
        {
          "output_type": "stream",
          "name": "stdout",
          "text": [
            "train_loss: 1.56297 | train_metric: -1.56297\n",
            "valid_loss: 1.27585 | valid_metric: -1.27585\n",
            "test_loss:  1.29161 | test_metric:  -1.29161\n",
            "CPU times: user 1min 42s, sys: 1.53 s, total: 1min 44s\n",
            "Wall time: 1min 45s\n"
          ]
        }
      ]
    },
    {
      "cell_type": "code",
      "metadata": {
        "id": "dOatV_zR0I1x",
        "colab": {
          "base_uri": "https://localhost:8080/",
          "height": 371
        },
        "outputId": "4ba54a1a-4f36-4b75-a05e-f9dcfa1f92a0"
      },
      "source": [
        "%%time\n",
        "\n",
        "\n",
        "br = BetaRecommendation(field_dims, 25).to(device)\n",
        "\n",
        "optimizer = optim.Adam(br.parameters(), lr=LEARNING_RATE, weight_decay=REGULARIZATION)\n",
        "scheduler = ConstantLR(optimizer, factor=0.2, total_iters=300)\n",
        "\n",
        "criterion = Beta_Loss(model=br)\n",
        "\n",
        "trainer = Trainer(br, optimizer, criterion, BATCH_SIZE, scheduler=scheduler, task=task)\n",
        "trainer.train(train_X, train_y, epoch=EPOCH, trials=TRIAL, valid_X=valid_X, valid_y=valid_y)\n",
        "test_loss, test_metric = trainer.test(test_X, test_y)\n",
        "print('test_loss:  {:.5f} | test_metric:  {:.5f}'.format(test_loss, test_metric))"
      ],
      "execution_count": 16,
      "outputs": [
        {
          "output_type": "stream",
          "name": "stderr",
          "text": [
            "Train loss: 1.120 | Validation loss 1.353:  49%|████▉     | 585/1200 [01:08<01:12,  8.48it/s]\n"
          ]
        },
        {
          "output_type": "display_data",
          "data": {
            "image/png": "[encoded data removed]",
            "text/plain": [
              "<Figure size 432x288 with 1 Axes>"
            ]
          },
          "metadata": {
            "needs_background": "light"
          }
        },
        {
          "output_type": "stream",
          "name": "stdout",
          "text": [
            "train_loss: 1.56755 | train_metric: -1.56755\n",
            "valid_loss: 1.30455 | valid_metric: -1.30455\n",
            "test_loss:  1.31587 | test_metric:  -1.31587\n",
            "CPU times: user 1min 7s, sys: 1.43 s, total: 1min 8s\n",
            "Wall time: 1min 9s\n"
          ]
        }
      ]
    },
    {
      "cell_type": "code",
      "metadata": {
        "id": "tpf2Mq6T0Mgx",
        "colab": {
          "base_uri": "https://localhost:8080/",
          "height": 369
        },
        "outputId": "434e905f-a248-4230-c404-d1b0245fe39e"
      },
      "source": [
        "%%time\n",
        "\n",
        "\n",
        "br = BetaRecommendation(field_dims, 5).to(device)\n",
        "\n",
        "optimizer = optim.Adam(br.parameters(), lr=LEARNING_RATE, weight_decay=REGULARIZATION)\n",
        "scheduler = ConstantLR(optimizer, factor=0.2, total_iters=300)\n",
        "\n",
        "criterion = Beta_Loss(model=br)\n",
        "\n",
        "trainer = Trainer(br, optimizer, criterion, BATCH_SIZE, scheduler=scheduler, task=task)\n",
        "trainer.train(train_X, train_y, epoch=EPOCH, trials=TRIAL, valid_X=valid_X, valid_y=valid_y)\n",
        "test_loss, test_metric = trainer.test(test_X, test_y)\n",
        "print('test_loss:  {:.5f} | test_metric:  {:.5f}'.format(test_loss, test_metric))"
      ],
      "execution_count": 23,
      "outputs": [
        {
          "output_type": "stream",
          "name": "stderr",
          "text": [
            "Train loss: 1.112 | Validation loss 1.368:  48%|████▊     | 572/1200 [00:44<00:48, 12.97it/s]\n"
          ]
        },
        {
          "output_type": "display_data",
          "data": {
            "image/png": "[encoded data removed]",
            "text/plain": [
              "<Figure size 432x288 with 1 Axes>"
            ]
          },
          "metadata": {
            "needs_background": "light"
          }
        },
        {
          "output_type": "stream",
          "name": "stdout",
          "text": [
            "train_loss: 1.58820 | train_metric: -1.58820\n",
            "valid_loss: 1.35632 | valid_metric: -1.35632\n",
            "test_loss:  1.35850 | test_metric:  -1.35850\n",
            "CPU times: user 42.8 s, sys: 1.21 s, total: 44 s\n",
            "Wall time: 44.4 s\n"
          ]
        }
      ]
    },
    {
      "cell_type": "code",
      "metadata": {
        "id": "Dtj9_FxDA7L7"
      },
      "source": [
        ""
      ],
      "execution_count": null,
      "outputs": []
    }
  ]
}