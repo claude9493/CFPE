{
 "cells": [
  {
   "cell_type": "code",
   "execution_count": 8,
   "metadata": {},
   "outputs": [
    {
     "name": "stdout",
     "output_type": "stream",
     "text": [
      "Training on [cpu].\n",
      "Wall time: 8.36 s\n"
     ]
    }
   ],
   "source": [
    "%%time\n",
    "\n",
    "from utils.utils import create_dataset, Trainer\n",
    "\n",
    "import torch\n",
    "import torch.nn as nn\n",
    "import torch.optim as optim\n",
    "\n",
    "device = torch.device('cuda:0' if torch.cuda.is_available() else 'cpu')\n",
    "print('Training on [{}].'.format(device))"
   ]
  },
  {
   "cell_type": "code",
   "execution_count": 52,
   "metadata": {},
   "outputs": [
    {
     "name": "stdout",
     "output_type": "stream",
     "text": [
      "Wall time: 38.8 ms\n"
     ]
    }
   ],
   "source": [
    "%%time\n",
    "\n",
    "SAMPLE_NUM = 10000\n",
    "task = 'regression'  # 'classification'\n",
    "dataset = create_dataset('movielens', sample_num=SAMPLE_NUM, task=task, device=device)\n",
    "field_dims, (train_X, train_y), (valid_X, valid_y), (test_X, test_y) = dataset.train_valid_test_split()"
   ]
  },
  {
   "cell_type": "code",
   "execution_count": 73,
   "metadata": {},
   "outputs": [],
   "source": [
    "class EE_Loss:\n",
    "    def __init__(self, model, reg_biase=0.005, reg_lambda=0.005):\n",
    "        self.reg_biase = reg_biase\n",
    "        self.reg_lambda = reg_lambda\n",
    "        self.model = model\n",
    "\n",
    "    def __call__(self, pred, target):\n",
    "        loss = (1-self.reg_biase - self.reg_lambda) * nn.MSELoss()(pred, target)\n",
    "        loss += self.reg_biase * self.model.loss[0]\n",
    "        loss += self.reg_lambda * self.model.loss[1]\n",
    "        return loss\n",
    "\n",
    "\n",
    "class EuclideanEmbedding(nn.Module):\n",
    "\n",
    "    def __init__(self, field_dims, embed_dim=4):\n",
    "        super(EuclideanEmbedding, self).__init__()\n",
    "        n_users, n_movies = field_dims[0], field_dims[1]\n",
    "        self.Bu = nn.Parameter(torch.randn(n_users), requires_grad=True)\n",
    "        self.Bm = nn.Parameter(torch.randn(n_movies), requires_grad=True)\n",
    "        self.u = nn.Embedding(n_users, embed_dim)\n",
    "        self.m = nn.Embedding(n_movies, embed_dim)\n",
    "        \n",
    "        self.u.weight.data.uniform_(0, 0.05)\n",
    "        self.m.weight.data.uniform_(0, 0.05)\n",
    "        self.loss = (0,0)\n",
    "\n",
    "        \n",
    "    def forward(self, x, global_mean=0):\n",
    "        users, movies = x[:,0], x[:,1]\n",
    "        u, m = self.u(users), self.m(movies)\n",
    "        Bu, Bm = self.Bu[users], self.Bm[movies]\n",
    "        difference = u-m\n",
    "        output = global_mean + Bu + Bm - torch.linalg.norm(torch.mul(difference, difference))\n",
    "        \n",
    "        self.loss[0] = torch.norm(Bu) + torch.norm(Bm)\n",
    "        self.loss[1] = torch.norm(u), torch.norm(m)\n",
    "        return output"
   ]
  },
  {
   "cell_type": "code",
   "execution_count": 74,
   "metadata": {},
   "outputs": [],
   "source": [
    "ee = EuclideanEmbedding([10, 37])"
   ]
  },
  {
   "cell_type": "code",
   "execution_count": 76,
   "metadata": {},
   "outputs": [
    {
     "name": "stderr",
     "output_type": "stream",
     "text": [
      "100%|█████████████████████████████████████████████████████████████████████████████████████████████| 500/500 [27:05<00:00,  3.25s/it]\n"
     ]
    },
    {
     "data": {
      "image/png": "[encoded data removed]",
      "text/plain": [
       "<Figure size 432x288 with 1 Axes>"
      ]
     },
     "metadata": {
      "needs_background": "light"
     },
     "output_type": "display_data"
    },
    {
     "name": "stdout",
     "output_type": "stream",
     "text": [
      "train_loss: 7.35021 | train_metric: -7.35021\n",
      "valid_loss: 7.66142 | valid_metric: -7.66142\n",
      "test_loss:  7.92030 | test_metric:  -7.92030\n",
      "Wall time: 27min 7s\n"
     ]
    }
   ],
   "source": [
    "%%time\n",
    "\n",
    "EMBEDDING_DIM = 8\n",
    "LEARNING_RATE = 1e-4\n",
    "REGULARIZATION = 1e-6\n",
    "BATCH_SIZE = 1024\n",
    "EPOCH = 500\n",
    "TRIAL = 100\n",
    "\n",
    "ee = EuclideanEmbedding(field_dims, EMBEDDING_DIM).to(device)\n",
    "\n",
    "optimizer = optim.Adam(cf.parameters(), lr=LEARNING_RATE, weight_decay=REGULARIZATION)\n",
    "# criterion = nn.BCELoss()\n",
    "# criterion = nn.CrossEntropyLoss()\n",
    "criterion = EE_Loss(model=ee)\n",
    "\n",
    "trainer = Trainer(cf, optimizer, criterion, BATCH_SIZE, task=task)\n",
    "trainer.train(train_X, train_y, epoch=EPOCH, trials=TRIAL, valid_X=valid_X, valid_y=valid_y)\n",
    "test_loss, test_metric = trainer.test(test_X, test_y)\n",
    "print('test_loss:  {:.5f} | test_metric:  {:.5f}'.format(test_loss, test_metric))\n"
   ]
  },
  {
   "cell_type": "code",
   "execution_count": null,
   "metadata": {},
   "outputs": [],
   "source": []
  }
 ],
 "metadata": {
  "interpreter": {
   "hash": "c1b4cfe941b6d2466ad1fb5979e97da9cda8801728c8091b097ab734208fc00c"
  },
  "kernelspec": {
   "display_name": "Python 3",
   "language": "python",
   "name": "python3"
  },
  "language_info": {
   "codemirror_mode": {
    "name": "ipython",
    "version": 3
   },
   "file_extension": ".py",
   "mimetype": "text/x-python",
   "name": "python",
   "nbconvert_exporter": "python",
   "pygments_lexer": "ipython3",
   "version": "3.8.8"
  }
 },
 "nbformat": 4,
 "nbformat_minor": 2
}
