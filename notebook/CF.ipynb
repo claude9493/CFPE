{
  "nbformat": 4,
  "nbformat_minor": 0,
  "metadata": {
    "interpreter": {
      "hash": "c1b4cfe941b6d2466ad1fb5979e97da9cda8801728c8091b097ab734208fc00c"
    },
    "kernelspec": {
      "display_name": "Python 3",
      "language": "python",
      "name": "python3"
    },
    "language_info": {
      "codemirror_mode": {
        "name": "ipython",
        "version": 3
      },
      "file_extension": ".py",
      "mimetype": "text/x-python",
      "name": "python",
      "nbconvert_exporter": "python",
      "pygments_lexer": "ipython3",
      "version": "3.8.8"
    },
    "colab": {
      "name": "CF.ipynb",
      "provenance": [],
      "toc_visible": true
    }
  },
  "cells": [
    {
      "cell_type": "code",
      "metadata": {
        "id": "jjKHP4nlQY93",
        "outputId": "ea306658-66a6-43c6-f8d0-97c1286f3284",
        "colab": {
          "base_uri": "https://localhost:8080/"
        }
      },
      "source": [
        "!git clone https://github.com/claude9493/dsaa5002.git\n",
        "!mv ./dsaa5002/dataset/ ./\n",
        "!mv ./dsaa5002/util/ ./"
      ],
      "execution_count": 8,
      "outputs": [
        {
          "output_type": "stream",
          "name": "stdout",
          "text": [
            "fatal: destination path 'dsaa5002' already exists and is not an empty directory.\n"
          ]
        }
      ]
    },
    {
      "cell_type": "code",
      "metadata": {
        "id": "2Iy-9wlPQELD",
        "outputId": "dc10f33e-ac35-449f-8f9c-6d45dfc33ea1",
        "colab": {
          "base_uri": "https://localhost:8080/"
        }
      },
      "source": [
        "%%time\n",
        "\n",
        "from utils.utils import create_dataset, Trainer\n",
        "# from layer.layer import Embedding, FeaturesEmbedding, EmbeddingsInteraction, MultiLayerPerceptron\n",
        "\n",
        "import torch\n",
        "import torch.nn as nn\n",
        "import torch.optim as optim\n",
        "\n",
        "device = torch.device('cuda:0' if torch.cuda.is_available() else 'cpu')\n",
        "print('Training on [{}].'.format(device))\n"
      ],
      "execution_count": 1,
      "outputs": [
        {
          "output_type": "stream",
          "name": "stdout",
          "text": [
            "Training on [cpu].\n",
            "CPU times: user 1 s, sys: 361 ms, total: 1.37 s\n",
            "Wall time: 1.28 s\n"
          ]
        }
      ]
    },
    {
      "cell_type": "code",
      "metadata": {
        "id": "Q9PKA1NtQELJ",
        "outputId": "2f154942-d56d-4263-b9e0-7d46090abde0",
        "colab": {
          "base_uri": "https://localhost:8080/"
        }
      },
      "source": [
        "%%time\n",
        "SAMPLE_NUM = 10000\n",
        "task = 'regression'  # 'classification'\n",
        "dataset = create_dataset('movielens', sample_num=SAMPLE_NUM, task=task, device=device)\n",
        "field_dims, (train_X, train_y), (valid_X, valid_y), (test_X, test_y) = dataset.train_valid_test_split()\n"
      ],
      "execution_count": 2,
      "outputs": [
        {
          "output_type": "stream",
          "name": "stdout",
          "text": [
            "CPU times: user 13.2 ms, sys: 9.83 ms, total: 23.1 ms\n",
            "Wall time: 122 ms\n"
          ]
        }
      ]
    },
    {
      "cell_type": "code",
      "metadata": {
        "id": "0pEuFO3MQELK"
      },
      "source": [
        "class CollaborativeFiltering(nn.Module):\n",
        "    \n",
        "    def __init__(self, field_dims, embed_dim=4):\n",
        "        super(CollaborativeFiltering, self).__init__()\n",
        "        n_users, n_movies = field_dims[0], field_dims[1]\n",
        "        self.u = nn.Embedding(n_users, embed_dim)\n",
        "        self.m = nn.Embedding(n_movies, embed_dim)\n",
        "        self.u.weight.data.uniform_(0, 0.05)\n",
        "        self.m.weight.data.uniform_(0, 0.05)\n",
        "\n",
        "        \n",
        "    def forward(self, x):\n",
        "        users, movies = x[:,0], x[:,1]\n",
        "        u, m = self.u(users), self.m(movies)\n",
        "        return (u*m).sum(1).view(-1, 1)"
      ],
      "execution_count": 3,
      "outputs": []
    },
    {
      "cell_type": "code",
      "metadata": {
        "id": "9iPpujYhQELL",
        "outputId": "eaa4e2f2-9f8e-4ff5-ae1b-887179b9be15",
        "colab": {
          "base_uri": "https://localhost:8080/",
          "height": 369
        }
      },
      "source": [
        "%%time\n",
        "\n",
        "EMBEDDING_DIM = 8\n",
        "LEARNING_RATE = 1e-4\n",
        "REGULARIZATION = 1e-6\n",
        "BATCH_SIZE = 1024\n",
        "EPOCH = 500\n",
        "TRIAL = 100\n",
        "\n",
        "cf = CollaborativeFiltering(field_dims, EMBEDDING_DIM).to(device)\n",
        "optimizer = optim.Adam(cf.parameters(), lr=LEARNING_RATE, weight_decay=REGULARIZATION)\n",
        "# criterion = nn.BCELoss()\n",
        "# criterion = nn.CrossEntropyLoss()\n",
        "criterion = nn.MSELoss()\n",
        "\n",
        "trainer = Trainer(cf, optimizer, criterion, BATCH_SIZE, task=task)\n",
        "trainer.train(train_X, train_y, epoch=EPOCH, trials=TRIAL, valid_X=valid_X, valid_y=valid_y)\n",
        "test_loss, test_metric = trainer.test(test_X, test_y)\n",
        "print('test_loss:  {:.5f} | test_metric:  {:.5f}'.format(test_loss, test_metric))\n"
      ],
      "execution_count": 4,
      "outputs": [
        {
          "output_type": "stream",
          "name": "stderr",
          "text": [
            "100%|██████████| 500/500 [01:14<00:00,  6.73it/s]\n"
          ]
        },
        {
          "output_type": "display_data",
          "data": {
            "image/png": "[encoded data removed]",
            "text/plain": [
              "<Figure size 432x288 with 1 Axes>"
            ]
          },
          "metadata": {
            "needs_background": "light"
          }
        },
        {
          "output_type": "stream",
          "name": "stdout",
          "text": [
            "train_loss: 5.84570 | train_metric: -5.84570\n",
            "valid_loss: 7.11292 | valid_metric: -7.11292\n",
            "test_loss:  7.28699 | test_metric:  -7.28699\n",
            "CPU times: user 1min 11s, sys: 2.52 s, total: 1min 14s\n",
            "Wall time: 1min 14s\n"
          ]
        }
      ]
    },
    {
      "cell_type": "code",
      "metadata": {
        "id": "7oJkKQtMQELN"
      },
      "source": [
        ""
      ],
      "execution_count": null,
      "outputs": []
    }
  ]
}