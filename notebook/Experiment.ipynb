{
 "cells": [
  {
   "cell_type": "code",
   "execution_count": null,
   "metadata": {},
   "outputs": [],
   "source": [
    "%%time\n",
    "\n",
    "from utils.utils import create_dataset, Trainer\n",
    "from models.model import *\n",
    "# from layer.layer import Embedding, FeaturesEmbedding, EmbeddingsInteraction, MultiLayerPerceptron\n",
    "\n",
    "import math\n",
    "import torch\n",
    "import torch.nn as nn\n",
    "import torch.optim as optim\n",
    "from torch.optim.lr_scheduler import ConstantLR\n",
    "\n",
    "from torch.utils.data import TensorDataset, DataLoader\n",
    "\n",
    "device = torch.device('cuda:0' if torch.cuda.is_available() else 'cpu')\n",
    "print('Training on [{}].'.format(device))"
   ]
  },
  {
   "cell_type": "code",
   "execution_count": null,
   "metadata": {},
   "outputs": [],
   "source": [
    "%%time\n",
    "\n",
    "# Load data and split train, validation, test sets.\n",
    "SAMPLE_NUM = 10000\n",
    "task = 'regression'  # 'classification'\n",
    "dataset = create_dataset('movielens', sample_num=SAMPLE_NUM, task=task, device=device)\n",
    "field_dims, (train_X, train_y), (valid_X, valid_y), (test_X, test_y) = dataset.train_valid_test_split()"
   ]
  },
  {
   "cell_type": "code",
   "execution_count": null,
   "metadata": {},
   "outputs": [],
   "source": [
    "config = dict(\n",
    "    EMBEDDING_DIM = 50,\n",
    "    LEARNING_RATE = 0.25, #1e-4\n",
    "    REGULARIZATION = 1e-6,\n",
    "    BATCH_SIZE = 1024,  # 64\n",
    "    EPOCH = 1200,\n",
    "    TRIAL = 200)"
   ]
  },
  {
   "cell_type": "code",
   "execution_count": null,
   "metadata": {},
   "outputs": [],
   "source": [
    "def train(model, criterion, config, \n",
    "          scheduler=None, draw=False, **kwargs):\n",
    "\n",
    "    EMBEDDING_DIM = config.get('EMBEDDING_DIM')\n",
    "    LEARNING_RATE = config.get('LEARNING_RATE')\n",
    "    REGULARIZATION = config.get('REGULARIZATION')\n",
    "    BATCH_SIZE = config.get('BATCH_SIZE')\n",
    "    EPOCH = config.get('EPOCH')\n",
    "    TRIAL = config.get('TRIAL')\n",
    "\n",
    "    models = dict(\n",
    "        MF = MatrixFactorization,\n",
    "        EE = EuclideanEmbedding,\n",
    "        BR = BetaRecommendation\n",
    "    )\n",
    "\n",
    "    model = models.get(model)(field_dims, EMBEDDING_DIM, **kwargs).to(device)\n",
    "\n",
    "    optimizer = optim.Adam(model.parameters(), lr=LEARNING_RATE, weight_decay=REGULARIZATION)\n",
    "\n",
    "    if scheduler == 'const':\n",
    "        scheduler = ConstantLR(optimizer, factor=0.2, total_iters=300)\n",
    "        \n",
    "    trainer = Trainer(model, optimizer, criterion, BATCH_SIZE, scheduler=scheduler, task=task)\n",
    "    train_loss, valid_loss = trainer.train(train_X, train_y, \n",
    "                                           valid_X=valid_X, valid_y=valid_y, \n",
    "                                           epoch=EPOCH, trials=TRIAL, draw=draw)\n",
    "    test_loss, test_metric = trainer.test(test_X, test_y)\n",
    "    print('test_loss:  {:.5f} | test_metric:  {:.5f}'.format(test_loss, test_metric))\n",
    "    return train_loss, valid_loss, test_loss"
   ]
  },
  {
   "cell_type": "code",
   "execution_count": null,
   "metadata": {},
   "outputs": [],
   "source": []
  }
 ],
 "metadata": {
  "language_info": {
   "name": "python"
  },
  "orig_nbformat": 4
 },
 "nbformat": 4,
 "nbformat_minor": 2
}
